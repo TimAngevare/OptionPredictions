{
 "cells": [
  {
   "cell_type": "code",
   "execution_count": 65,
   "metadata": {},
   "outputs": [],
   "source": [
    "import yfinance as yf\n",
    "import math"
   ]
  },
  {
   "cell_type": "code",
   "execution_count": 66,
   "metadata": {},
   "outputs": [],
   "source": [
    "stock = yf.Ticker('TSLA')\n",
    "stockInfo = stock.info"
   ]
  },
  {
   "cell_type": "markdown",
   "metadata": {},
   "source": [
    "# EPS"
   ]
  },
  {
   "cell_type": "code",
   "execution_count": 67,
   "metadata": {},
   "outputs": [
    {
     "data": {
      "text/plain": [
       "3.038484681151332"
      ]
     },
     "execution_count": 67,
     "metadata": {},
     "output_type": "execute_result"
    }
   ],
   "source": [
    "def calc_eps(net_income_to_common, shares_outstanding):\n",
    "    return net_income_to_common / shares_outstanding\n",
    "\n",
    "calc_eps(stockInfo['netIncomeToCommon'], stockInfo['sharesOutstanding'])"
   ]
  },
  {
   "cell_type": "markdown",
   "metadata": {},
   "source": [
    "# Volatility\n",
    "Valid intervals: `[1m, 2m, 5m, 15m, 30m, 60m, 90m, 1h, 1d, 5d, 1wk, 1mo, 3mo]`"
   ]
  },
  {
   "cell_type": "code",
   "execution_count": 68,
   "metadata": {},
   "outputs": [
    {
     "name": "stdout",
     "output_type": "stream",
     "text": [
      "Date\n",
      "2022-08-25 00:00:00-04:00           NaN\n",
      "2022-08-26 00:00:00-04:00    288.089996\n",
      "2022-08-29 00:00:00-04:00    284.820007\n",
      "2022-08-30 00:00:00-04:00    277.700012\n",
      "2022-08-31 00:00:00-04:00    275.609985\n",
      "2022-09-01 00:00:00-04:00    277.160004\n",
      "2022-09-02 00:00:00-04:00    270.209991\n",
      "2022-09-06 00:00:00-04:00    274.420013\n",
      "2022-09-07 00:00:00-04:00    283.700012\n",
      "2022-09-08 00:00:00-04:00    289.260010\n",
      "2022-09-09 00:00:00-04:00    299.679993\n",
      "2022-09-12 00:00:00-04:00    304.420013\n",
      "2022-09-13 00:00:00-04:00    292.130005\n",
      "2022-09-14 00:00:00-04:00    302.609985\n",
      "2022-09-15 00:00:00-04:00    303.750000\n",
      "2022-09-16 00:00:00-04:00    303.350006\n",
      "2022-09-19 00:00:00-04:00    309.070007\n",
      "2022-09-20 00:00:00-04:00    308.730011\n",
      "2022-09-21 00:00:00-04:00    300.799988\n",
      "2022-09-22 00:00:00-04:00    288.589996\n",
      "2022-09-23 00:00:00-04:00    275.329987\n",
      "2022-09-26 00:00:00-04:00    276.010010\n",
      "2022-09-27 00:00:00-04:00    282.940002\n",
      "2022-09-28 00:00:00-04:00    287.809998\n",
      "2022-09-29 00:00:00-04:00    268.209991\n",
      "2022-09-30 00:00:00-04:00    265.250000\n",
      "2022-10-03 00:00:00-04:00    242.399994\n",
      "2022-10-04 00:00:00-04:00    249.440002\n",
      "2022-10-05 00:00:00-04:00    240.809998\n",
      "2022-10-06 00:00:00-04:00    238.130005\n",
      "2022-10-07 00:00:00-04:00    223.070007\n",
      "2022-10-10 00:00:00-04:00    222.960007\n",
      "2022-10-11 00:00:00-04:00    216.500000\n",
      "2022-10-12 00:00:00-04:00    217.240005\n",
      "2022-10-13 00:00:00-04:00    221.720001\n",
      "2022-10-14 00:00:00-04:00    204.990005\n",
      "2022-10-17 00:00:00-04:00    219.350006\n",
      "2022-10-18 00:00:00-04:00    220.190002\n",
      "2022-10-19 00:00:00-04:00    222.039993\n",
      "2022-10-20 00:00:00-04:00    207.279999\n",
      "2022-10-21 00:00:00-04:00    214.440002\n",
      "2022-10-24 00:00:00-04:00    211.250000\n",
      "2022-10-25 00:00:00-04:00    222.414993\n",
      "Name: Close, dtype: float64 43\n"
     ]
    },
    {
     "data": {
      "text/plain": [
       "220.83243256493793"
      ]
     },
     "execution_count": 68,
     "metadata": {},
     "output_type": "execute_result"
    }
   ],
   "source": [
    "def calc_volatility(stock, period, interval):\n",
    "    historic = stock.history(period=period, interval=interval)\n",
    "    values = [x for x in historic['Close'] if not math.isnan(x)]\n",
    "    print(historic['Close'], len(historic['Close']))\n",
    "\n",
    "    mean = sum(values) / len(values)\n",
    "    deviation = [price - mean for price in values]\n",
    "    variance = sum([dev * dev for dev in deviation]) / len(values)\n",
    "    std_dev = math.sqrt(variance)\n",
    "\n",
    "    #Not completely sure if this is the exact formula that is needed/wanted?\n",
    "    volatility = std_dev * math.sqrt(len(values))\n",
    "    \n",
    "    return volatility\n",
    "    \n",
    "\n",
    "\n",
    "calc_volatility(stock, '2mo', '1d')\n"
   ]
  }
 ],
 "metadata": {
  "kernelspec": {
   "display_name": "Python 3.10.0 64-bit",
   "language": "python",
   "name": "python3"
  },
  "language_info": {
   "codemirror_mode": {
    "name": "ipython",
    "version": 3
   },
   "file_extension": ".py",
   "mimetype": "text/x-python",
   "name": "python",
   "nbconvert_exporter": "python",
   "pygments_lexer": "ipython3",
   "version": "3.9.5"
  },
  "orig_nbformat": 4,
  "vscode": {
   "interpreter": {
    "hash": "aee8b7b246df8f9039afb4144a1f6fd8d2ca17a180786b69acc140d282b71a49"
   }
  }
 },
 "nbformat": 4,
 "nbformat_minor": 2
}
