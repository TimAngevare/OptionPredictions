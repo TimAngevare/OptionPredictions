{
 "cells": [
  {
   "cell_type": "code",
   "execution_count": 65,
   "metadata": {},
   "outputs": [],
   "source": [
    "import yfinance as yf\n",
    "import math"
   ]
  },
  {
   "cell_type": "code",
   "execution_count": 72,
   "metadata": {},
   "outputs": [
    {
     "name": "stdout",
     "output_type": "stream",
     "text": [
      "2.92\n"
     ]
    }
   ],
   "source": [
    "stock = yf.Ticker('TSLA')\n",
    "stockInfo = stock.info"
   ]
  },
  {
   "cell_type": "markdown",
   "metadata": {},
   "source": [
    "# EPS"
   ]
  },
  {
   "cell_type": "code",
   "execution_count": 67,
   "metadata": {},
   "outputs": [
    {
     "data": {
      "text/plain": [
       "3.038484681151332"
      ]
     },
     "execution_count": 67,
     "metadata": {},
     "output_type": "execute_result"
    }
   ],
   "source": [
    "def calc_eps(net_income_to_common, shares_outstanding):\n",
    "    return net_income_to_common / shares_outstanding\n",
    "\n",
    "calc_eps(stockInfo['netIncomeToCommon'], stockInfo['sharesOutstanding'])"
   ]
  },
  {
   "cell_type": "markdown",
   "metadata": {},
   "source": [
    "# Volatility\n",
    "Valid intervals: `[1m, 2m, 5m, 15m, 30m, 60m, 90m, 1h, 1d, 5d, 1wk, 1mo, 3mo]`"
   ]
  },
  {
   "cell_type": "code",
   "execution_count": null,
   "metadata": {},
   "outputs": [],
   "source": [
    "def calc_volatility(stock, period, interval):\n",
    "    historic = stock.history(period=period, interval=interval)\n",
    "    values = [x for x in historic['Close'] if not math.isnan(x)]\n",
    "    print(historic['Close'], len(historic['Close']))\n",
    "\n",
    "    mean = sum(values) / len(values)\n",
    "    deviation = [price - mean for price in values]\n",
    "    variance = sum([dev * dev for dev in deviation]) / len(values)\n",
    "    std_dev = math.sqrt(variance)\n",
    "\n",
    "    #Not completely sure if this is the exact formula that is needed/wanted?\n",
    "    volatility = std_dev * math.sqrt(len(values))\n",
    "    \n",
    "    return volatility\n",
    "    \n",
    "\n",
    "\n",
    "calc_volatility(stock, '2mo', '1d')\n"
   ]
  },
  {
   "cell_type": "markdown",
   "metadata": {},
   "source": [
    "# Estimate future price"
   ]
  },
  {
   "cell_type": "code",
   "execution_count": 82,
   "metadata": {},
   "outputs": [
    {
     "name": "stdout",
     "output_type": "stream",
     "text": [
      "5524.0\n"
     ]
    }
   ],
   "source": [
    "def get_future_price(stock):\n",
    "    historic = stock.history(period='1y', interval='1mo')\n",
    "    #print(historic)\n",
    "    net_income_year = stock.financials['2021-12-31']['Net Income Applicable To Common Shares']\n",
    "    shares_year = stock.balancesheet['2021-12-31']['Common Stock']\n",
    "    print(net_income_year / shares_year)\n",
    "\n",
    "get_future_price(stock)"
   ]
  }
 ],
 "metadata": {
  "kernelspec": {
   "display_name": "Python 3.10.0 64-bit",
   "language": "python",
   "name": "python3"
  },
  "language_info": {
   "codemirror_mode": {
    "name": "ipython",
    "version": 3
   },
   "file_extension": ".py",
   "mimetype": "text/x-python",
   "name": "python",
   "nbconvert_exporter": "python",
   "pygments_lexer": "ipython3",
   "version": "3.9.0"
  },
  "orig_nbformat": 4,
  "vscode": {
   "interpreter": {
    "hash": "aee8b7b246df8f9039afb4144a1f6fd8d2ca17a180786b69acc140d282b71a49"
   }
  }
 },
 "nbformat": 4,
 "nbformat_minor": 2
}
