{
 "cells": [
  {
   "cell_type": "code",
   "execution_count": 65,
   "metadata": {},
   "outputs": [],
   "source": [
    "import yfinance as yf\n",
    "import math"
   ]
  },
  {
   "cell_type": "code",
   "execution_count": 72,
   "metadata": {},
   "outputs": [
    {
     "name": "stdout",
     "output_type": "stream",
     "text": [
      "2.92\n"
     ]
    }
   ],
   "source": [
    "stock = yf.Ticker('TSLA')\n",
    "stockInfo = stock.info"
   ]
  },
  {
   "cell_type": "markdown",
   "metadata": {},
   "source": [
    "# EPS"
   ]
  },
  {
   "cell_type": "code",
   "execution_count": 67,
   "metadata": {},
   "outputs": [
    {
     "data": {
      "text/plain": [
       "3.038484681151332"
      ]
     },
     "execution_count": 67,
     "metadata": {},
     "output_type": "execute_result"
    }
   ],
   "source": [
    "def calc_eps(net_income_to_common, shares_outstanding):\n",
    "    return net_income_to_common / shares_outstanding\n",
    "\n",
    "calc_eps(stockInfo['netIncomeToCommon'], stockInfo['sharesOutstanding'])"
   ]
  },
  {
   "cell_type": "markdown",
   "metadata": {},
   "source": [
    "# Volatility\n",
    "Valid intervals: `[1m, 2m, 5m, 15m, 30m, 60m, 90m, 1h, 1d, 5d, 1wk, 1mo, 3mo]`"
   ]
  },
  {
   "cell_type": "code",
   "execution_count": null,
   "metadata": {},
   "outputs": [],
   "source": [
    "def calc_volatility(stock, period, interval):\n",
    "    historic = stock.history(period=period, interval=interval)\n",
    "    values = [x for x in historic['Close'] if not math.isnan(x)]\n",
    "    print(historic['Close'], len(historic['Close']))\n",
    "\n",
    "    mean = sum(values) / len(values)\n",
    "    deviation = [price - mean for price in values]\n",
    "    variance = sum([dev * dev for dev in deviation]) / len(values)\n",
    "    std_dev = math.sqrt(variance)\n",
    "\n",
    "    #Not completely sure if this is the exact formula that is needed/wanted?\n",
    "    volatility = std_dev * math.sqrt(len(values))\n",
    "    \n",
    "    return volatility\n",
    "    \n",
    "\n",
    "\n",
    "calc_volatility(stock, '2mo', '1d')\n"
   ]
  },
  {
   "cell_type": "markdown",
   "metadata": {},
   "source": [
    "# Estimate future price"
   ]
  },
  {
   "cell_type": "code",
   "execution_count": 82,
   "metadata": {},
   "outputs": [
    {
     "name": "stdout",
     "output_type": "stream",
     "text": [
      "5524.0\n"
     ]
    }
   ],
   "source": [
    "gr_values = {\n",
    "    'Total Assets': 0.1,\n",
    "    'Total Current Assets': 0.05,\n",
    "    'Retained Earnings': 0.05,\n",
    "    'Gross Profit': 0.2,\n",
    "    'Net Income': 0.2,\n",
    "    'Total Cash From Operating Activities': 0.15\n",
    "}\n",
    "\n",
    "def calc_growth_rate(stock, eps_an, years):\n",
    "    result = 0\n",
    "\n",
    "    for i, (data, weight) in enumerate(gr_values.items()):\n",
    "        if i < 3:\n",
    "            source = stock.balancesheet\n",
    "        elif i < 5:\n",
    "            source = stock.financials\n",
    "        else:\n",
    "            source = stock.cashflow\n",
    "        \n",
    "        data_gr = 0\n",
    "        for j, year in enumerate(years):\n",
    "            if j == len(years) - 1:\n",
    "                break\n",
    "                \n",
    "            present = source[year][data]\n",
    "            past = source[years[j + 1]][data]\n",
    "            data_gr += ((present - past) / past)\n",
    "        \n",
    "\n",
    "        result += ((data_gr / 2) * weight)\n",
    "    \n",
    "    #Specific for EPS\n",
    "    eps_gr = 0\n",
    "    for i, eps in enumerate(eps_an):\n",
    "        if i == len(years) - 1:\n",
    "            break\n",
    "                \n",
    "        past = eps_an[i + 1]\n",
    "        eps_gr += ((eps - past) / past)\n",
    "    result += ((eps_gr / 2) * 0.25)\n",
    "\n",
    "\n",
    "    return result\n",
    "\n",
    "\n",
    "#returns stockprice in 3 years\n",
    "def get_future_price(stock):\n",
    "    historic = stock.history(start='2019-01-01', end='2021-12-31', interval='1mo')['Close']\n",
    "    fc = historic[historic.notnull()]\n",
    "    financial_years = stock.financials.keys()[:3]\n",
    "\n",
    "    eps_an = [round(stock.financials[year]['Net Income Applicable To Common Shares'] / stock.shares['BasicShares'][year.year], 2) for year in financial_years]\n",
    "\n",
    "    #Calculate future p/e ratio\n",
    "    closes_an = [fc[ts] for ts in fc.keys() if ts.month == 12]\n",
    "    closes_an.reverse()\n",
    "\n",
    "    tot_pe = [price / eps_an[i] for i, price in enumerate(closes_an)]\n",
    "    pe = round(sum(tot_pe) / len(tot_pe), 2)\n",
    "\n",
    "    #Calculate future eps\n",
    "    eps = eps_an[0] * ((1 + calc_growth_rate(stock, eps_an, financial_years)) ** len(financial_years))\n",
    "\n",
    "    return pe * eps\n",
    "    \n",
    "\n",
    "print(f\"Future (3y) price of {stock.info['symbol']}: {get_future_price(stock)}\")"
   ]
  }
 ],
 "metadata": {
  "kernelspec": {
   "display_name": "Python 3.10.0 64-bit",
   "language": "python",
   "name": "python3"
  },
  "language_info": {
   "codemirror_mode": {
    "name": "ipython",
    "version": 3
   },
   "file_extension": ".py",
   "mimetype": "text/x-python",
   "name": "python",
   "nbconvert_exporter": "python",
   "pygments_lexer": "ipython3",
   "version": "3.9.0"
  },
  "orig_nbformat": 4,
  "vscode": {
   "interpreter": {
    "hash": "aee8b7b246df8f9039afb4144a1f6fd8d2ca17a180786b69acc140d282b71a49"
   }
  }
 },
 "nbformat": 4,
 "nbformat_minor": 2
}
