{
 "cells": [
  {
   "cell_type": "code",
   "execution_count": 65,
   "metadata": {},
   "outputs": [],
   "source": [
    "import yfinance as yf\n",
    "import math"
   ]
  },
  {
   "cell_type": "code",
   "execution_count": null,
   "metadata": {},
   "outputs": [],
   "source": [
    "stock = yf.Ticker('TSLA')\n",
    "stockInfo = stock.info"
   ]
  },
  {
   "cell_type": "code",
   "execution_count": 182,
   "metadata": {},
   "outputs": [
    {
     "data": {
      "text/html": [
       "<div>\n",
       "<style scoped>\n",
       "    .dataframe tbody tr th:only-of-type {\n",
       "        vertical-align: middle;\n",
       "    }\n",
       "\n",
       "    .dataframe tbody tr th {\n",
       "        vertical-align: top;\n",
       "    }\n",
       "\n",
       "    .dataframe thead th {\n",
       "        text-align: right;\n",
       "    }\n",
       "</style>\n",
       "<table border=\"1\" class=\"dataframe\">\n",
       "  <thead>\n",
       "    <tr style=\"text-align: right;\">\n",
       "      <th></th>\n",
       "      <th>BasicShares</th>\n",
       "    </tr>\n",
       "    <tr>\n",
       "      <th>Year</th>\n",
       "      <th></th>\n",
       "    </tr>\n",
       "  </thead>\n",
       "  <tbody>\n",
       "    <tr>\n",
       "      <th>2019</th>\n",
       "      <td>18471336000</td>\n",
       "    </tr>\n",
       "    <tr>\n",
       "      <th>2020</th>\n",
       "      <td>17352119000</td>\n",
       "    </tr>\n",
       "    <tr>\n",
       "      <th>2021</th>\n",
       "      <td>16701272000</td>\n",
       "    </tr>\n",
       "  </tbody>\n",
       "</table>\n",
       "</div>"
      ],
      "text/plain": [
       "      BasicShares\n",
       "Year             \n",
       "2019  18471336000\n",
       "2020  17352119000\n",
       "2021  16701272000"
      ]
     },
     "execution_count": 182,
     "metadata": {},
     "output_type": "execute_result"
    }
   ],
   "source": [
    "stock.shares\n",
    "#stock.info['sharesOutstanding']"
   ]
  },
  {
   "cell_type": "markdown",
   "metadata": {},
   "source": [
    "# EPS"
   ]
  },
  {
   "cell_type": "code",
   "execution_count": 67,
   "metadata": {},
   "outputs": [
    {
     "data": {
      "text/plain": [
       "3.038484681151332"
      ]
     },
     "execution_count": 67,
     "metadata": {},
     "output_type": "execute_result"
    }
   ],
   "source": [
    "def calc_eps(net_income_to_common, shares_outstanding):\n",
    "    return net_income_to_common / shares_outstanding\n",
    "\n",
    "calc_eps(stockInfo['netIncomeToCommon'], stockInfo['sharesOutstanding'])"
   ]
  },
  {
   "cell_type": "markdown",
   "metadata": {},
   "source": [
    "# Volatility\n",
    "Valid intervals: `[1m, 2m, 5m, 15m, 30m, 60m, 90m, 1h, 1d, 5d, 1wk, 1mo, 3mo]`"
   ]
  },
  {
   "cell_type": "code",
   "execution_count": null,
   "metadata": {},
   "outputs": [],
   "source": [
    "def calc_volatility(stock, period, interval):\n",
    "    historic = stock.history(period=period, interval=interval)\n",
    "    values = [x for x in historic['Close'] if not math.isnan(x)]\n",
    "    print(historic['Close'], len(historic['Close']))\n",
    "\n",
    "    mean = sum(values) / len(values)\n",
    "    deviation = [price - mean for price in values]\n",
    "    variance = sum([dev * dev for dev in deviation]) / len(values)\n",
    "    std_dev = math.sqrt(variance)\n",
    "\n",
    "    #Not completely sure if this is the exact formula that is needed/wanted?\n",
    "    volatility = std_dev * math.sqrt(len(values))\n",
    "    \n",
    "    return volatility\n",
    "    \n",
    "\n",
    "\n",
    "calc_volatility(stock, '2mo', '1d')\n"
   ]
  },
  {
   "cell_type": "markdown",
   "metadata": {},
   "source": [
    "# Estimate future price"
   ]
  },
  {
   "cell_type": "code",
   "execution_count": 195,
   "metadata": {},
   "outputs": [
    {
     "name": "stdout",
     "output_type": "stream",
     "text": [
      "Future 1y price of AAPL: 207.39551706274975\n"
     ]
    }
   ],
   "source": [
    "gr_values = {\n",
    "    'Total Assets': 0.1,\n",
    "    'Total Current Assets': 0.05,\n",
    "    'Retained Earnings': 0.05,\n",
    "    'Gross Profit': 0.2,\n",
    "    'Net Income': 0.2,\n",
    "    'Total Cash From Operating Activities': 0.15\n",
    "}\n",
    "\n",
    "def calc_growth_rate(stock, eps_an, periods, bs, fc, cf):\n",
    "    result = 0\n",
    "\n",
    "    for i, (data, weight) in enumerate(gr_values.items()):\n",
    "        #Take the correct source based on the index since dicts are ordered\n",
    "        if i < 3:\n",
    "            source = bs\n",
    "        elif i < 5:\n",
    "            source = fc\n",
    "        else:\n",
    "            source = cf\n",
    "            \n",
    "        data_gr = 0\n",
    "        for j, period in enumerate(periods):\n",
    "            #Don't run if we cant +1 the index in the same list\n",
    "            if j == len(periods) - 1:\n",
    "                break\n",
    "            \n",
    "            #Take present and past values of the thing\n",
    "            present = source[period][data]\n",
    "            past = source[periods[j + 1]][data]\n",
    "            #Calculate growth rate\n",
    "            data_gr += ((present - past) / past)\n",
    "            \n",
    "        #Add the average growth rate * weight to the total\n",
    "        result += ((data_gr / 2) * weight)\n",
    "        \n",
    "    #Add EPS growth rate specifically\n",
    "    eps_gr = 0\n",
    "    for i, eps in enumerate(eps_an):\n",
    "        if i == len(periods) - 1:\n",
    "            break\n",
    "                    \n",
    "        past = eps_an[i + 1]\n",
    "        eps_gr += ((eps - past) / past)\n",
    "    result += ((eps_gr / 2) * 0.25)\n",
    "\n",
    "    return result\n",
    "\n",
    "\n",
    "#returns stockprice in 1/3 years\n",
    "def get_future_price(stock, when='3y'):\n",
    "    #setting the correct financial statement sheets\n",
    "    #settings the correct keyword arguments for the history period\n",
    "    #setting the correct list splice length for the periods\n",
    "    if when == '1y':\n",
    "        financials = stock.quarterly_financials\n",
    "        bs = stock.quarterly_balancesheet\n",
    "        cf = stock.quarterly_cashflow\n",
    "        kwargs = {'period': '1y'}\n",
    "        splice = 4\n",
    "    elif when =='3y':\n",
    "        financials = stock.financials\n",
    "        bs = stock.balancesheet\n",
    "        cf = stock.cashflow\n",
    "        kwargs = {'start':'2019-01-01', 'end':'2021-12-31'}\n",
    "        splice = 5\n",
    "    else:\n",
    "        print(\"'when' param should be 1y or 3y\")\n",
    "        return -1\n",
    "\n",
    "    #Take the historic data / filter the NaN values / splice to the correct amount of periods\n",
    "    historic = stock.history(interval='1mo', **kwargs)['Close']\n",
    "    fc = historic[historic.notnull()]\n",
    "    periods = financials.keys()[:splice]\n",
    "\n",
    "    #Calculate the EPS for every period in the periods list\n",
    "    eps_an = [round(financials[period]['Net Income Applicable To Common Shares'] / stock.shares['BasicShares'][period.year if period.year < 2022 else 2021], 2) for period in periods]\n",
    "\n",
    "    # Calculate future p/e ratio\n",
    "    #take the relevant closing prices for the periods\n",
    "    if when == '1y':\n",
    "        closes = [fc[ts] for ts in fc.keys() if ts.month % 3 == 0]\n",
    "    elif when =='3y':\n",
    "        closes = [fc[ts] for ts in fc.keys() if ts.month == 12]\n",
    "    #in the correct order\n",
    "    closes.reverse()\n",
    "\n",
    "    #calculate p/e ratio for every period\n",
    "    tot_pe = [price / eps_an[i] for i, price in enumerate(closes)]\n",
    "    #take the average p/e ratio\n",
    "    pe = round(sum(tot_pe) / len(tot_pe), 2)\n",
    "\n",
    "    #Calculate future eps (eps * (1 + growth)_rate^periods)\n",
    "    eps = eps_an[0] * ((1 + calc_growth_rate(stock, eps_an, periods, bs, financials, cf)) ** len(periods))\n",
    "\n",
    "    #return future p/e ratio * eps\n",
    "    return pe * eps\n",
    "    \n",
    "when = '1y'\n",
    "print(f\"Future {when} price of {stock.info['symbol']}: {get_future_price(stock, when)}\")"
   ]
  }
 ],
 "metadata": {
  "kernelspec": {
   "display_name": "Python 3.10.0 64-bit",
   "language": "python",
   "name": "python3"
  },
  "language_info": {
   "codemirror_mode": {
    "name": "ipython",
    "version": 3
   },
   "file_extension": ".py",
   "mimetype": "text/x-python",
   "name": "python",
   "nbconvert_exporter": "python",
   "pygments_lexer": "ipython3",
   "version": "3.9.0"
  },
  "orig_nbformat": 4,
  "vscode": {
   "interpreter": {
    "hash": "aee8b7b246df8f9039afb4144a1f6fd8d2ca17a180786b69acc140d282b71a49"
   }
  }
 },
 "nbformat": 4,
 "nbformat_minor": 2
}
